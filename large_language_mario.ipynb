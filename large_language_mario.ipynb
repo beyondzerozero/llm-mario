{
  "cells": [
    {
      "cell_type": "markdown",
      "metadata": {},
      "source": []
    },
    {
      "cell_type": "markdown",
      "metadata": {
        "colab_type": "text",
        "id": "view-in-github"
      },
      "source": [
        "<a href=\"https://colab.research.google.com/github/karaage0703/mario-ai-challenge/blob/main/colab_notebooks/large_language_mario.ipynb\" target=\"_parent\"><img src=\"https://colab.research.google.com/assets/colab-badge.svg\" alt=\"Open In Colab\"/></a>"
      ]
    },
    {
      "cell_type": "markdown",
      "metadata": {
        "id": "7uV4DXW7Twmn"
      },
      "source": [
        "# Large Language Mario\n",
        "\n",
        "LLM으로 슈퍼마리아 플레이하 도전"
      ]
    },
    {
      "cell_type": "markdown",
      "metadata": {
        "id": "sp7cIywprfIH"
      },
      "source": [
        "## 필ㅛ한 라이브러리 설치 및 가져오기\n",
        "AI 마리오에 필요한 라이러리 설치 및 가져오기 실행합니다 "
      ]
    },
    {
      "cell_type": "markdown",
      "metadata": {
        "id": "RPnAHd9WeQkz"
      },
      "source": [
        "[OpenAI Gym 슈마리오용 패키지](https://github.com/Kautenja/gym-super-mario-bros)을 설치합니다. 강화학습 환경으로 사용합니다. 자한 사양은 [GitHub](https://github.com/Kautenja/gym-super-mario-bros)에서 확인할 수  있습니다.\n"
      ]
    },
    {
      "cell_type": "code",
      "execution_count": null,
      "metadata": {
        "id": "bkd4mMOAUbt1"
      },
      "outputs": [],
      "source": [
        "!pip install -qqq gym-super-mario-bros==7.3.0"
      ]
    },
    {
      "cell_type": "markdown",
      "metadata": {
        "id": "vtY9MC-Vq-Hv"
      },
      "source": [
        "기타 필요한 라이브러리를  설치합니다."
      ]
    },
    {
      "cell_type": "code",
      "execution_count": null,
      "metadata": {
        "id": "zMBp7lLX5b4t"
      },
      "outputs": [],
      "source": [
        "!apt -qq update\n",
        "!apt install -y -qq xvfb\n",
        "!pip install -qqq pyvirtualdisplay"
      ]
    },
    {
      "cell_type": "markdown",
      "metadata": {
        "id": "gddw9CE-rCer"
      },
      "source": [
        "필요한 라이브러리를 가져옵니다."
      ]
    },
    {
      "cell_type": "code",
      "execution_count": null,
      "metadata": {
        "id": "2HK668vmggdk"
      },
      "outputs": [],
      "source": [
        "# Import the game\n",
        "import gym_super_mario_bros\n",
        "# Import the Joypad wrapper\n",
        "from nes_py.wrappers import JoypadSpace\n",
        "# Import the SIMPLIFIED controls\n",
        "from gym.spaces import Box\n",
        "from gym_super_mario_bros.actions import SIMPLE_MOVEMENT\n",
        "from gym_super_mario_bros.actions import COMPLEX_MOVEMENT\n",
        "from gym_super_mario_bros.actions import RIGHT_ONLY\n",
        "\n",
        "import gym\n",
        "import numpy as np\n",
        "import matplotlib.pyplot as plt\n",
        "from matplotlib.pyplot import imshow\n",
        "import cv2\n",
        "from PIL import Image\n",
        "import requests\n",
        "\n",
        "import os\n",
        "from google.colab import userdata\n",
        "import base64\n",
        "import json"
      ]
    },
    {
      "cell_type": "markdown",
      "metadata": {
        "id": "E05HX02Ab4au"
      },
      "source": [
        "## AI 슈퍼 마리오 환경구축\n",
        "\n",
        "AI 슈퍼 마리오 환경을 구축합니다.\n",
        "\n"
      ]
    },
    {
      "cell_type": "markdown",
      "metadata": {
        "id": "kAYJDcRPiMv_"
      },
      "source": [
        "### AI 슈퍼마리오 환경 초기화 및 동작 확인 \n",
        "환경 확인합니다."
      ]
    },
    {
      "cell_type": "code",
      "execution_count": null,
      "metadata": {
        "id": "MCONES3_i3Rq"
      },
      "outputs": [],
      "source": [
        "STAGE_NAME = 'SuperMarioBros-1-1-v0'"
      ]
    },
    {
      "cell_type": "code",
      "execution_count": null,
      "metadata": {
        "id": "lP3htmWUPKHL"
      },
      "outputs": [],
      "source": [
        "# 마리오1-1 환경을 초기화합니다. \n",
        "env = gym_super_mario_bros.make(STAGE_NAME)\n",
        "\n",
        "# 슈퍼마리오의 행동공간을 설정합니다. \n",
        "env = JoypadSpace(env, SIMPLE_MOVEMENT)\n",
        "\n",
        "# MOVEMENT = [[\"right\"], [\"right\", \"A\"]]\n",
        "# env = JoypadSpace(env, MOVEMENT)\n",
        "# env = JoypadSpace(env, COMPLEX_MOVEMENT)\n",
        "# env = JoypadSpace(env, RIGHT_ONLY)"
      ]
    },
    {
      "cell_type": "markdown",
      "metadata": {
        "id": "ArneJLzbsOby"
      },
      "source": [
        "스테이지 초기화와 행동공간 설정을 하고 있습니다. \n",
        "\n",
        "PyTorch 튜토리얼에서는 아래와 같이 2가지 패턴으로 단순화된 행동을 하는 마리오로 제한되어 있습니다. \n",
        "\n",
        "```\n",
        "# 행동 공간은 다음과 같이 제한합니다.\n",
        "#   0. 오른쪽으로 걷기 \n",
        "#   1. 오른쪽 방향으로 점프 \n",
        "env = JoypadSpace(env, [[\"right\"], [\"right\", \"A\"]])\n",
        "```\n",
        "\n",
        "직접 자유롭게 설정하는 것외에도 `gym_super_mario_bros`에는  `SIMPLE_MOVEMENT`, `COMPLEX_MOVEMENT`등 여러가지 패턴이 등록되어 있습니다. 어떤 패턴이  등록되어 있습니다. 어떤 패턴이 있는지는 [gym_super_mario_bros 소스코드](https://github.com/Kautenja/gym-super-mario-bros/blob/master/gym_super_mario_bros/actions.py)를 읽거나 아래와 같이  내용을 `print`하 확인하는 방법이 있습니다.\n",
        "\n",
        "L이번에는 `SIMPLE_MOVEMENT`를 사용하였습니다."
      ]
    },
    {
      "cell_type": "code",
      "execution_count": null,
      "metadata": {
        "id": "R9UdQXeGxrJx"
      },
      "outputs": [],
      "source": [
        "print(SIMPLE_MOVEMENT)\n",
        "print(COMPLEX_MOVEMENT)"
      ]
    },
    {
      "cell_type": "markdown",
      "metadata": {
        "id": "rnRXtGZZtHy6"
      },
      "source": [
        "환경을 재설정하고 환경을 확인합니다.\n",
        "\n",
        "`env.step(action=0)`과 에이전트(슈퍼마리오)가 액션을 취하면 환경으로부터 상태(`state`)와 보상(`reward`), 완료 여부의 플래그(`done`), 정보(`info`)를 돌려받습니다. "
      ]
    },
    {
      "cell_type": "code",
      "execution_count": null,
      "metadata": {
        "id": "bgewUGcHtIWj"
      },
      "outputs": [],
      "source": [
        "env.reset()\n",
        "state, reward, done, info = env.step(action=0)\n",
        "\n",
        "print('state:', state.shape)\n",
        "print('reward:', reward)\n",
        "print('done:', done)\n",
        "print('info:', info)"
      ]
    },
    {
      "cell_type": "markdown",
      "metadata": {
        "id": "BTAfyErJtf7Z"
      },
      "source": [
        "행동  `action`의 범위나 상태 `state`의 범위를 확인하려면 다음을 수행하십시오. \n",
        "\n",
        "```python\n",
        "from gym.spaces import Box, Discrete\n",
        "def print_spaces(space):\n",
        "    print(space)\n",
        "\n",
        "    if isinstance(space, Box):\n",
        "        print('min:', space.low)\n",
        "        print('max:', space.high)\n",
        "    if isinstance(space, Discrete):\n",
        "        print('min:', 0)\n",
        "        print('max:', space.n-1)\n",
        "\n",
        "print('action space------------------')\n",
        "print_spaces(env.action_space)\n",
        "print('observation space------------------')\n",
        "print_spaces(env.observation_space)\n",
        "```"
      ]
    },
    {
      "cell_type": "markdown",
      "metadata": {
        "id": "0rfpE6Gzu17o"
      },
      "source": [
        "마지막으로 `state`를 이미지로 시각화해 버립니다. \n",
        "\n",
        "슈퍼마리오의 플레이 화면임을 확인할 수 있습니다. "
      ]
    },
    {
      "cell_type": "code",
      "execution_count": null,
      "metadata": {
        "id": "OJ-fHsIRe1YF"
      },
      "outputs": [],
      "source": [
        "plt.imshow(state)"
      ]
    },
    {
      "cell_type": "markdown",
      "metadata": {
        "id": "rnQeXLyQg44v"
      },
      "source": [
        "`state`는 `numpy.ndarray'입니다."
      ]
    },
    {
      "cell_type": "code",
      "execution_count": null,
      "metadata": {
        "id": "y2ZMV3V9uHVs"
      },
      "outputs": [],
      "source": [
        "print(type(state))"
      ]
    },
    {
      "cell_type": "markdown",
      "metadata": {
        "id": "nEzAGZQqPr1f"
      },
      "source": [
        "`state`를 이미지로 변환합니다. "
      ]
    },
    {
      "cell_type": "code",
      "execution_count": null,
      "metadata": {
        "id": "-groX6DZMywD"
      },
      "outputs": [],
      "source": [
        "image = Image.fromarray(state)\n",
        "image.save('state.png')"
      ]
    },
    {
      "cell_type": "markdown",
      "metadata": {
        "id": "GCsbDnPkvAja"
      },
      "source": [
        "이미지도 표시를 확인합니다."
      ]
    },
    {
      "cell_type": "code",
      "execution_count": null,
      "metadata": {
        "id": "Gjwo907wgwlV"
      },
      "outputs": [],
      "source": [
        "img = Image.open('state.png')\n",
        "imshow(img)"
      ]
    },
    {
      "cell_type": "markdown",
      "metadata": {
        "id": "MPUjdohlM8W7"
      },
      "source": [
        "## LLM 테스트 "
      ]
    },
    {
      "cell_type": "markdown",
      "metadata": {
        "id": "YM6s77q5NAaf"
      },
      "source": [
        "LLM이 이미지를 올바르게 불러와 재생할 수 있는지 테스트합니다.\n",
        "OpenAI 라이브러리를 설치합니다."
      ]
    },
    {
      "cell_type": "code",
      "execution_count": null,
      "metadata": {
        "id": "RwqeWrDcQQEl"
      },
      "outputs": [],
      "source": [
        "!pip install -qqq openai"
      ]
    },
    {
      "cell_type": "markdown",
      "metadata": {
        "id": "bj7qUcnHNQKo"
      },
      "source": [
        "OpenAI API KEY를 불러옵니다.\n",
        "\n",
        "미리 Google Colab의 스크릿키로 `OPENAI_API_KEY`를 설정해 두어야 합니다. 시크릿키 설정방법은 따로 찾아보세요. \n",
        "\n",
        "\n"
      ]
    },
    {
      "cell_type": "markdown",
      "metadata": {
        "id": "g17kvG1miw59"
      },
      "source": [
        "LLM에서 이미지를 읽을 수 있도록 인코딩 함수를 정의합니다."
      ]
    },
    {
      "cell_type": "code",
      "execution_count": null,
      "metadata": {
        "id": "Butziddii0zn"
      },
      "outputs": [],
      "source": [
        "def encode_image(image_path):\n",
        "    with open(image_path, \"rb\") as image_file:\n",
        "        return base64.b64encode(image_file.read()).decode('utf-8')"
      ]
    },
    {
      "cell_type": "markdown",
      "metadata": {
        "id": "NjZLLXFxOId5"
      },
      "source": [
        "이미지에서 슈퍼마리오 움직임을 추론하는 함수를 정의합니다."
      ]
    },
    {
      "cell_type": "code",
      "execution_count": null,
      "metadata": {
        "id": "q5KOCpBbybHx"
      },
      "outputs": [],
      "source": [
        "def predict(state):\n",
        "    # 현재 슈퍼마리오 상태를 PNG 이미지로 저장\n",
        "    image = Image.fromarray(state)\n",
        "    image.save('state.png')\n",
        "\n",
        "    # 이미지 파일 인코딩 \n",
        "    image_path = \"./state.png\"\n",
        "    base64_image = encode_image(image_path)\n",
        "\n",
        "    api_key = userdata.get(\"OPENAI_API_KEY\")\n",
        "\n",
        "    # 프롬프트 \n",
        "    prompt = \"\"\"\n",
        "        이 이미지는 게임 슈퍼마리오의 플레이 화면입니다.\n",
        "    　　 화면에 따라 아래 7가지 버튼조작이 가능합니다. 버튼 조작은 아래 7가지 중 하나를 선택해 주세요.\n",
        "    　　 A는 점프, B는 대시, NOOP는 조작하지 않습니다. \n",
        "\n",
        "        0 = 'NOOP'\n",
        "        1 = 'right'\n",
        "        2 = 'right', 'A'\n",
        "        3 = 'right', 'B'\n",
        "        4 = 'right', 'A', 'B'\n",
        "        5 = 'A'\n",
        "        6 = 'left'\n",
        "\n",
        "        아래와 같이 json으로 출력해 주세요. 한국어로 부탁드립니다.\n",
        "\n",
        "    　　 explanation: 화면설정\n",
        "        reason: 버튼조작의 이유\n",
        "        action: 버튼조작의 종류 \n",
        "    \"\"\"\n",
        "\n",
        "    headers = {\n",
        "    \"Content-Type\": \"application/json\",\n",
        "    \"Authorization\": f\"Bearer {api_key}\"\n",
        "    }\n",
        "\n",
        "    payload = {\n",
        "    \"model\": \"gpt-4o-2024-08-06\",\n",
        "    \"messages\": [\n",
        "        {\n",
        "        \"role\": \"user\",\n",
        "        \"content\": [\n",
        "            {\n",
        "            \"type\": \"text\",\n",
        "            \"text\": f\"{prompt}\"\n",
        "            },\n",
        "            {\n",
        "            \"type\": \"image_url\",\n",
        "            \"image_url\": {\n",
        "                \"url\": f\"data:image/jpeg;base64,{base64_image}\"\n",
        "            }\n",
        "            }\n",
        "        ]\n",
        "        }\n",
        "    ],\n",
        "    \"max_tokens\": 300,\n",
        "    \"temperature\": 1,\n",
        "    \"response_format\": {\n",
        "        \"type\": \"json_schema\",\n",
        "        \"json_schema\": {\n",
        "        \"name\": \"mario_action\",\n",
        "        \"schema\": {\n",
        "            \"type\": \"object\",\n",
        "            \"properties\": {\n",
        "            \"explanation\": {\n",
        "                \"type\": \"string\",\n",
        "            },\n",
        "            \"reason\": {\n",
        "                \"type\": \"string\",\n",
        "            },\n",
        "            \"action\": {\n",
        "                \"type\": \"integer\"\n",
        "            }\n",
        "            },\n",
        "            \"required\": [\"explanation\", \"reason\", \"action\"],\n",
        "        }\n",
        "        }\n",
        "    }\n",
        "    }\n",
        "\n",
        "    response = requests.post(\"https://api.openai.com/v1/chat/completions\", headers=headers, json=payload)\n",
        "\n",
        "    content_dict = json.loads(response.json().get('choices')[0].get('message').get('content'))\n",
        "\n",
        "    action = content_dict.get('action')\n",
        "    explanation = content_dict.get('explanation')\n",
        "    reason = content_dict.get('reason')\n",
        "\n",
        "    if action == None:\n",
        "        action = 0\n",
        "\n",
        "\n",
        "    return action, explanation, reason"
      ]
    },
    {
      "cell_type": "markdown",
      "metadata": {
        "id": "2FV5oR3pjAVY"
      },
      "source": [
        "추론하는 함수를 테스트합니다. "
      ]
    },
    {
      "cell_type": "code",
      "execution_count": null,
      "metadata": {
        "id": "L7QCjFe3mIuT"
      },
      "outputs": [],
      "source": [
        "action, explanation, reason = predict(state)"
      ]
    },
    {
      "cell_type": "markdown",
      "metadata": {
        "id": "wE1GzOPojcrN"
      },
      "source": [
        "액션을 확인합니다. 오른쪽으로 이동（`1`） 또는 대시하여 오른쪽으로 이동（`2`）되어 있는지 확인합니다. "
      ]
    },
    {
      "cell_type": "code",
      "execution_count": null,
      "metadata": {
        "id": "k0gXFm1ijeVM"
      },
      "outputs": [],
      "source": [
        "action"
      ]
    },
    {
      "cell_type": "markdown",
      "metadata": {
        "id": "CYmmghUukm55"
      },
      "source": [
        "슈퍼마리오의 상황파악(이미지 설명)을 확인합니다."
      ]
    },
    {
      "cell_type": "code",
      "execution_count": null,
      "metadata": {
        "id": "Ir3ePLc6koub"
      },
      "outputs": [],
      "source": [
        "explanation"
      ]
    },
    {
      "cell_type": "markdown",
      "metadata": {
        "id": "wZROLsofqFLj"
      },
      "source": [
        "행동 이유를 확인합니다."
      ]
    },
    {
      "cell_type": "code",
      "execution_count": null,
      "metadata": {
        "id": "wRSO6nCvlHIG"
      },
      "outputs": [],
      "source": [
        "reason"
      ]
    },
    {
      "cell_type": "markdown",
      "metadata": {
        "id": "gox1d_Nqir7z"
      },
      "source": [
        "## AI 슈퍼마리오 테스트\n",
        "\n",
        "AI모델을 테스트합니다."
      ]
    },
    {
      "cell_type": "markdown",
      "metadata": {
        "id": "M_5QHVsKFsn0"
      },
      "source": [
        "테스트 횟수등을 설정합니다."
      ]
    },
    {
      "cell_type": "code",
      "execution_count": null,
      "metadata": {
        "id": "CdUGVdTzFqPm"
      },
      "outputs": [],
      "source": [
        "EPISODE_NUMBERS = 1\n",
        "MAX_TIMESTEP_TEST = 1000\n",
        "SKIP_RATE = 10"
      ]
    },
    {
      "cell_type": "code",
      "execution_count": null,
      "metadata": {
        "id": "BUtzYd9w-oCR"
      },
      "outputs": [],
      "source": [
        "import copy\n",
        "\n",
        "total_reward = [0] * EPISODE_NUMBERS\n",
        "total_time = [0] * EPISODE_NUMBERS\n",
        "best_reward = 0\n",
        "frames_best = []\n",
        "\n",
        "for i in range(EPISODE_NUMBERS):\n",
        "    state = env.reset()  # reset for each new trial\n",
        "    done = False\n",
        "    total_reward[i] = 0.0\n",
        "    total_time[i] = 0\n",
        "    skip_numb = SKIP_RATE\n",
        "    frames = []\n",
        "\n",
        "    while not done and total_time[i] < MAX_TIMESTEP_TEST:\n",
        "        if skip_numb < SKIP_RATE:\n",
        "            skip_numb += 1\n",
        "        else:\n",
        "            skip_numb = 0\n",
        "            action, explanation, reason = predict(state)\n",
        "\n",
        "            plt.imshow(state)\n",
        "            plt.pause(0.001)\n",
        "\n",
        "            print(f'action: {action}')\n",
        "            print(f'explanation: {explanation}')\n",
        "            print(f'reason: {reason}')\n",
        "\n",
        "        state, reward, done, info = env.step(action)\n",
        "        total_reward[i] += reward\n",
        "        total_time[i] += 1\n",
        "        frames.append(copy.deepcopy(env.render(mode = 'rgb_array')))\n",
        "\n",
        "    if total_reward[i] > best_reward:\n",
        "        best_reward = total_reward[i]\n",
        "        frames_best = copy.deepcopy(frames)\n",
        "\n",
        "    print('test episode:', i, 'reward:', total_reward[i], 'time:', total_time[i])\n",
        "\n",
        "    # Judgement Mario goal or not\n",
        "    if info['flag_get']:\n",
        "        print(f\"<<< Mario get the flag. GOOOOOOOOOOOOOOOOOOOOOAL! >>>\")\n",
        "        break\n",
        "\n",
        "print('average reward:', (sum(total_reward) / EPISODE_NUMBERS),\n",
        "      'average time:', (sum(total_time) / EPISODE_NUMBERS),\n",
        "      'best_reward:', best_reward)"
      ]
    },
    {
      "cell_type": "markdown",
      "metadata": {
        "id": "pWtYUKEb2Vz8"
      },
      "source": [
        "`<<< Mario get the flag. GOOOOOOOOOOOOOOOOOOOOOAL! >>>`라는 표시가 나오면, 클리어한 것입니다.\n",
        "\n",
        "클리어하지 못하면, 여러번 플레이하여 가장 좋은 플레이 영상이 저장됩니다.\n",
        "\n",
        "실행할 때마다 결과가 달라집니다. 여러번 시도해 봅시다."
      ]
    },
    {
      "cell_type": "markdown",
      "metadata": {
        "id": "pMKMuMaxgGF7"
      },
      "source": [
        "## AI 슈퍼마리오 플레이 영상저장 및 재생 \n",
        "\n",
        "저장된 이미지 로그에서 동영상을 저장하고 재생할 수 있습니다."
      ]
    },
    {
      "cell_type": "markdown",
      "metadata": {
        "id": "mgGsIOl9jVnR"
      },
      "source": [
        "이미지가 많으면 동영상 생성 및 확인에 시간이 오래 걸리므로 이미지를 간소화합니다. \n",
        "\n",
        "이미지를 가볍게 만드는 비율을 입력합니다. (클수록 가볍게 만들어짐)"
      ]
    },
    {
      "cell_type": "code",
      "execution_count": null,
      "metadata": {
        "id": "e8Z_I4hFgJqw"
      },
      "outputs": [],
      "source": [
        "SKIP_RATE = 4"
      ]
    },
    {
      "cell_type": "markdown",
      "metadata": {
        "id": "YmWH8b0Ajb9P"
      },
      "source": [
        "이미지 간소화 처리를 합니다."
      ]
    },
    {
      "cell_type": "code",
      "execution_count": null,
      "metadata": {
        "id": "QIxuzQ5ngKuP"
      },
      "outputs": [],
      "source": [
        "if SKIP_RATE == 1:\n",
        "  frames_new = np.array(frames_best)\n",
        "else:\n",
        "  np_frames = np.array(frames_best)\n",
        "  frames_new = np_frames[::SKIP_RATE].tolist()"
      ]
    },
    {
      "cell_type": "markdown",
      "metadata": {
        "id": "TcXrwSawjeUD"
      },
      "source": [
        "Google Colab에서 확인할 수 있는 동영상을 생성합니다. 생성 후 재생버튼을 누르면 AI 슈퍼마리오의 플레이 영상을 볼 수 있습니다."
      ]
    },
    {
      "cell_type": "code",
      "execution_count": null,
      "metadata": {
        "id": "LlhmlKSFgKzt"
      },
      "outputs": [],
      "source": [
        "import matplotlib.animation\n",
        "from IPython.display import HTML\n",
        "\n",
        "matplotlib.rcParams['animation.embed_limit'] = 2**128\n",
        "plt.figure(figsize=(frames[0].shape[1] / 72.0, frames[0].shape[0] / 72.0), dpi = 72)\n",
        "patch = plt.imshow(frames_new[0])\n",
        "plt.axis('off')\n",
        "animate = lambda i: patch.set_data(frames_new[i])\n",
        "ani = matplotlib.animation.FuncAnimation(plt.gcf(), animate, frames=len(frames_new), interval = 50)\n",
        "HTML(ani.to_jshtml())"
      ]
    },
    {
      "cell_type": "markdown",
      "metadata": {
        "id": "etQCTXKoaSjf"
      },
      "source": [
        "동영상을 저장합니다."
      ]
    },
    {
      "cell_type": "code",
      "execution_count": null,
      "metadata": {
        "id": "TL_icaAQXeKn"
      },
      "outputs": [],
      "source": [
        "ani.save('ai_mario.mp4')"
      ]
    },
    {
      "cell_type": "markdown",
      "metadata": {
        "id": "km__QtDolsp3"
      },
      "source": [
        "동영상 파일을 다운로드합니다."
      ]
    },
    {
      "cell_type": "code",
      "execution_count": null,
      "metadata": {
        "id": "OpN14WKrlyXx"
      },
      "outputs": [],
      "source": [
        "from google.colab import files\n",
        "files.download('ai_mario.mp4')"
      ]
    },
    {
      "cell_type": "markdown",
      "metadata": {
        "id": "on4fZsea8c4m"
      },
      "source": [
        "GIF 애니메이션 형식으로 저장합니다."
      ]
    },
    {
      "cell_type": "code",
      "execution_count": null,
      "metadata": {
        "id": "hxpbxskf8ASM"
      },
      "outputs": [],
      "source": [
        "import imageio\n",
        "imageio.mimsave('ai_mario.gif', [np.array(img) for i, img in enumerate(frames_best) if i%SKIP_RATE == 0], fps=15)"
      ]
    },
    {
      "cell_type": "markdown",
      "metadata": {
        "id": "fHQMe1hA8hju"
      },
      "source": [
        "GIF애니메이션을 다운로드합니다."
      ]
    },
    {
      "cell_type": "code",
      "execution_count": null,
      "metadata": {
        "id": "56ds6rWK8FXL"
      },
      "outputs": [],
      "source": [
        "from google.colab import files\n",
        "files.download('ai_mario.gif')"
      ]
    },
    {
      "cell_type": "markdown",
      "metadata": {
        "id": "vB0GCIEjidqL"
      },
      "source": [
        "##  참고자료 \n",
        "\n",
        "- https://platform.openai.com/docs/guides/vision\n",
        "- https://platform.openai.com/docs/guides/structured-outputs/introduction\n",
        "- https://openai.com/index/introducing-structured-outputs-in-the-api/\n",
        "- https://platform.openai.com/settings/organization/billing/overview"
      ]
    }
  ],
  "metadata": {
    "accelerator": "GPU",
    "colab": {
      "include_colab_link": true,
      "provenance": []
    },
    "kernelspec": {
      "display_name": "Python 3",
      "language": "python",
      "name": "python3"
    },
    "language_info": {
      "codemirror_mode": {
        "name": "ipython",
        "version": 3
      },
      "file_extension": ".py",
      "mimetype": "text/x-python",
      "name": "python",
      "nbconvert_exporter": "python",
      "pygments_lexer": "ipython3",
      "version": "3.6.8"
    }
  },
  "nbformat": 4,
  "nbformat_minor": 0
}
